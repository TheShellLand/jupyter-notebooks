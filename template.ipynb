{
 "cells": [
  {
   "cell_type": "code",
   "execution_count": 1,
   "metadata": {},
   "outputs": [],
   "source": [
    "import torch\n",
    "from torch import nn"
   ]
  },
  {
   "cell_type": "code",
   "execution_count": 2,
   "metadata": {},
   "outputs": [],
   "source": [
    "\n",
    "# I can never remember these\n",
    "\n",
    "def between_0_and_1(tensor):\n",
    "    \"\"\"Sigmoid\"\"\"\n",
    "    return torch.sigmoid(tensor)\n",
    "\n"
   ]
  },
  {
   "cell_type": "code",
   "execution_count": 3,
   "metadata": {},
   "outputs": [
    {
     "name": "stdout",
     "output_type": "stream",
     "text": [
      "GeForce GTX 1080 Ti\n"
     ]
    }
   ],
   "source": [
    "device = 'cuda' if torch.cuda.is_available() else 'cpu'\n",
    "print(torch.cuda.get_device_name())"
   ]
  },
  {
   "cell_type": "code",
   "execution_count": 5,
   "metadata": {},
   "outputs": [
    {
     "name": "stdout",
     "output_type": "stream",
     "text": [
      "torch.Size([4, 1000])\n",
      "tensor([[-1.1103, -1.1225, -0.3591,  ...,  1.2875, -1.3355,  0.9622],\n",
      "        [ 1.2334,  0.7252,  1.7805,  ..., -2.0183, -1.2481,  0.2339],\n",
      "        [-0.4698, -1.8902, -2.0153,  ...,  0.8507, -0.7327,  1.5197],\n",
      "        [ 0.8495, -0.2804, -0.2763,  ..., -0.3216, -0.3214, -0.7526]],\n",
      "       device='cuda:0')\n",
      "torch.Size([4, 10])\n",
      "tensor([[ 0.9843, -0.8929,  1.0702, -0.1212, -1.7804, -0.5724,  0.3188,  1.4641,\n",
      "         -1.1502,  0.2086],\n",
      "        [ 1.1205, -0.7376, -0.2333,  1.6773, -0.1068, -1.4067,  0.2528,  0.8975,\n",
      "          0.3034, -0.2858],\n",
      "        [ 0.9604, -1.1929, -0.9742,  0.7097, -0.2562, -0.3942,  1.7500, -1.0362,\n",
      "         -0.6617,  0.4080],\n",
      "        [ 0.5992, -0.2814,  0.8021, -1.1929, -0.0824, -0.8518, -0.9506,  0.3856,\n",
      "          0.9587,  0.5810]], device='cuda:0')\n",
      "Sequential(\n",
      "  (0): Linear(in_features=1000, out_features=100, bias=True)\n",
      "  (1): ReLU()\n",
      "  (2): Linear(in_features=100, out_features=10, bias=True)\n",
      ")\n",
      "0 0.880984902381897 tensor(0.1717, device='cuda:0', grad_fn=<SelectBackward>)\n",
      "10 0.4436567425727844 tensor(0.3224, device='cuda:0', grad_fn=<SelectBackward>)\n",
      "20 0.1615268737077713 tensor(0.6507, device='cuda:0', grad_fn=<SelectBackward>)\n",
      "30 0.04396195337176323 tensor(0.9378, device='cuda:0', grad_fn=<SelectBackward>)\n",
      "40 0.012104329653084278 tensor(1.0763, device='cuda:0', grad_fn=<SelectBackward>)\n",
      "50 0.005054450128227472 tensor(1.0671, device='cuda:0', grad_fn=<SelectBackward>)\n",
      "60 0.0018634321168065071 tensor(1.0134, device='cuda:0', grad_fn=<SelectBackward>)\n",
      "70 0.0006875680410303175 tensor(0.9827, device='cuda:0', grad_fn=<SelectBackward>)\n",
      "80 0.00026442817761562765 tensor(0.9784, device='cuda:0', grad_fn=<SelectBackward>)\n",
      "90 8.283136412501335e-05 tensor(0.9830, device='cuda:0', grad_fn=<SelectBackward>)\n",
      "100 2.970449895656202e-05 tensor(0.9858, device='cuda:0', grad_fn=<SelectBackward>)\n",
      "110 1.4881367860652972e-05 tensor(0.9856, device='cuda:0', grad_fn=<SelectBackward>)\n",
      "120 6.180354375828756e-06 tensor(0.9846, device='cuda:0', grad_fn=<SelectBackward>)\n",
      "130 2.0339316506579053e-06 tensor(0.9843, device='cuda:0', grad_fn=<SelectBackward>)\n",
      "140 7.415151230816264e-07 tensor(0.9844, device='cuda:0', grad_fn=<SelectBackward>)\n",
      "150 2.9421411795738095e-07 tensor(0.9846, device='cuda:0', grad_fn=<SelectBackward>)\n",
      "160 1.0782447645851789e-07 tensor(0.9845, device='cuda:0', grad_fn=<SelectBackward>)\n",
      "170 4.2271569355989413e-08 tensor(0.9844, device='cuda:0', grad_fn=<SelectBackward>)\n",
      "180 1.7379182537524684e-08 tensor(0.9843, device='cuda:0', grad_fn=<SelectBackward>)\n",
      "190 6.569634170006111e-09 tensor(0.9843, device='cuda:0', grad_fn=<SelectBackward>)\n",
      "200 2.472149152055181e-09 tensor(0.9843, device='cuda:0', grad_fn=<SelectBackward>)\n",
      "210 9.68320534866507e-10 tensor(0.9843, device='cuda:0', grad_fn=<SelectBackward>)\n",
      "220 3.7138275787995667e-10 tensor(0.9843, device='cuda:0', grad_fn=<SelectBackward>)\n",
      "230 1.3990289482457285e-10 tensor(0.9843, device='cuda:0', grad_fn=<SelectBackward>)\n",
      "240 5.400319080806071e-11 tensor(0.9843, device='cuda:0', grad_fn=<SelectBackward>)\n",
      "250 2.1523257134892226e-11 tensor(0.9843, device='cuda:0', grad_fn=<SelectBackward>)\n",
      "260 9.292945753192061e-12 tensor(0.9843, device='cuda:0', grad_fn=<SelectBackward>)\n",
      "270 4.428431146091816e-12 tensor(0.9843, device='cuda:0', grad_fn=<SelectBackward>)\n",
      "280 2.3895178370703096e-12 tensor(0.9843, device='cuda:0', grad_fn=<SelectBackward>)\n",
      "290 1.393754577895534e-12 tensor(0.9843, device='cuda:0', grad_fn=<SelectBackward>)\n",
      "300 9.001327786438418e-13 tensor(0.9843, device='cuda:0', grad_fn=<SelectBackward>)\n",
      "310 6.524517254594131e-13 tensor(0.9843, device='cuda:0', grad_fn=<SelectBackward>)\n",
      "320 5.08633445691492e-13 tensor(0.9843, device='cuda:0', grad_fn=<SelectBackward>)\n",
      "330 4.250294506537994e-13 tensor(0.9843, device='cuda:0', grad_fn=<SelectBackward>)\n",
      "340 3.605185540291739e-13 tensor(0.9843, device='cuda:0', grad_fn=<SelectBackward>)\n",
      "350 3.043190699436593e-13 tensor(0.9843, device='cuda:0', grad_fn=<SelectBackward>)\n",
      "360 2.549030593806262e-13 tensor(0.9843, device='cuda:0', grad_fn=<SelectBackward>)\n",
      "370 2.345651613482741e-13 tensor(0.9843, device='cuda:0', grad_fn=<SelectBackward>)\n",
      "380 2.0460994281257944e-13 tensor(0.9843, device='cuda:0', grad_fn=<SelectBackward>)\n",
      "390 1.7225804116449694e-13 tensor(0.9843, device='cuda:0', grad_fn=<SelectBackward>)\n",
      "400 1.672398385142021e-13 tensor(0.9843, device='cuda:0', grad_fn=<SelectBackward>)\n",
      "410 1.4599572364850516e-13 tensor(0.9843, device='cuda:0', grad_fn=<SelectBackward>)\n",
      "420 1.3853501679150781e-13 tensor(0.9843, device='cuda:0', grad_fn=<SelectBackward>)\n",
      "430 1.2747719817674669e-13 tensor(0.9843, device='cuda:0', grad_fn=<SelectBackward>)\n",
      "440 1.2563423066637436e-13 tensor(0.9843, device='cuda:0', grad_fn=<SelectBackward>)\n",
      "450 1.225755608125212e-13 tensor(0.9843, device='cuda:0', grad_fn=<SelectBackward>)\n",
      "460 1.20271848036424e-13 tensor(0.9843, device='cuda:0', grad_fn=<SelectBackward>)\n",
      "470 1.1689260670522117e-13 tensor(0.9843, device='cuda:0', grad_fn=<SelectBackward>)\n",
      "480 1.1103063049045306e-13 tensor(0.9843, device='cuda:0', grad_fn=<SelectBackward>)\n",
      "490 1.0563356016724673e-13 tensor(0.9843, device='cuda:0', grad_fn=<SelectBackward>)\n"
     ]
    }
   ],
   "source": [
    "batch_size = 4\n",
    "Dim_in = 1000\n",
    "Dim_hidden = 100\n",
    "Dim_out = 10\n",
    "\n",
    "# Create random input and output data\n",
    "x = torch.randn(batch_size, Dim_in, device=device, dtype=torch.float32)\n",
    "print(x.size())\n",
    "print(x)\n",
    "\n",
    "y = torch.randn(batch_size, Dim_out, device=device, dtype=torch.float32)\n",
    "print(y.size())\n",
    "print(y)\n",
    "\n",
    "model = torch.nn.Sequential(\n",
    "    torch.nn.Linear(Dim_in, Dim_hidden),\n",
    "    torch.nn.ReLU(),\n",
    "    torch.nn.Linear(Dim_hidden, Dim_out)\n",
    ").to(device)\n",
    "print(model)\n",
    "\n",
    "\n",
    "criterion = torch.nn.MSELoss()\n",
    "optimizer = torch.optim.SGD(model.parameters(), lr=0.001, momentum=0.9)\n",
    "\n",
    "for epoch in range(500):\n",
    "    y_pred = model(x)\n",
    "    \n",
    "    loss = criterion(y_pred, y)\n",
    "    if epoch % 10 == 0:\n",
    "        print(epoch, loss.item(), y_pred[0][0])\n",
    "        \n",
    "    optimizer.zero_grad()\n",
    "    loss.backward()\n",
    "    optimizer.step()"
   ]
  },
  {
   "cell_type": "code",
   "execution_count": null,
   "metadata": {},
   "outputs": [],
   "source": []
  }
 ],
 "metadata": {
  "kernelspec": {
   "display_name": "Python 3",
   "language": "python",
   "name": "python3"
  },
  "language_info": {
   "codemirror_mode": {
    "name": "ipython",
    "version": 3
   },
   "file_extension": ".py",
   "mimetype": "text/x-python",
   "name": "python",
   "nbconvert_exporter": "python",
   "pygments_lexer": "ipython3",
   "version": "3.8.5"
  }
 },
 "nbformat": 4,
 "nbformat_minor": 4
}
