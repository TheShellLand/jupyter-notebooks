{
 "cells": [
  {
   "cell_type": "code",
   "execution_count": 1,
   "metadata": {},
   "outputs": [],
   "source": [
    "import torch\n",
    "from torch import nn"
   ]
  },
  {
   "cell_type": "code",
   "execution_count": 2,
   "metadata": {},
   "outputs": [
    {
     "data": {
      "text/plain": [
       "Linear(in_features=2048, out_features=10, bias=True)"
      ]
     },
     "execution_count": 2,
     "metadata": {},
     "output_type": "execute_result"
    }
   ],
   "source": [
    "# https://towardsdatascience.com/pytorch-layer-dimensions-what-sizes-should-they-be-and-why-4265a41e01fd\n",
    "\n",
    "nn.Conv2d(1,20,3) # Give me depth of input.\n",
    "nn.Linear(2048, 10) # Give me features of input."
   ]
  },
  {
   "cell_type": "code",
   "execution_count": 3,
   "metadata": {},
   "outputs": [
    {
     "data": {
      "text/plain": [
       "Linear(in_features=2048, out_features=10, bias=True)"
      ]
     },
     "execution_count": 3,
     "metadata": {},
     "output_type": "execute_result"
    }
   ],
   "source": [
    "\"\"\"Example tensor size outputs, how PyTorch reads them, and where you encounter them in the wild. \n",
    "Note: the values below are only examples. Focus on the rank of the tensor (how many dimensions it has).\"\"\"\n",
    "torch.Size([32])\n",
    "    # 1d: [batch_size] \n",
    "    # use for target labels or predictions.\n",
    "torch.Size([12, 256])\n",
    "    # 2d: [batch_size, num_features (aka: C * H * W)]\n",
    "    # use for nn.Linear() input.\n",
    "torch.Size([10, 1, 2048])\n",
    "    # 3d: [batch_size, channels, num_features (aka: H * W)]\n",
    "    # when used as nn.Conv1d() input.\n",
    "    # (but [seq_len, batch_size, num_features]\n",
    "    # if feeding an RNN).\n",
    "torch.Size([16, 3, 28, 28])\n",
    "    # 4d: [batch_size, channels, height, width]\n",
    "    # use for nn.Conv2d() input.\n",
    "torch.Size([32, 1, 5, 15, 15])\n",
    "    # 5D: [batch_size, channels, depth, height, width]\n",
    "    # use for nn.Conv3d() input.\n",
    "    \n",
    "nn.Conv2d(1, 20, 3)\n",
    "    # Asks for [in_channels, out_channels, kernel_size]\n",
    "nn.Linear(2048, 10)\n",
    "    # Asks for [in_features, out_features]"
   ]
  },
  {
   "cell_type": "code",
   "execution_count": 4,
   "metadata": {},
   "outputs": [],
   "source": [
    "# Initializing a torch.nn.Conv2d layer\n",
    "class Net(nn.Module):\n",
    "    def __init__(self):\n",
    "        supet(Net, self).__init__()\n",
    "        # 1 input image channel, 6 output channels, 3x3 square convolution\n",
    "        self.conv1 = nn.Conv2d(1 ,6, 3)\n",
    "        self.conv2 = nn.Conv2d(6, 16, 3)\n",
    "        \n",
    "        # an affine operation: 7 = Wx + b\n",
    "        self.fc1 = nn.Linear(16 * 6 * 6, 120) # 6*6 from image dimension\n",
    "        self.fc2 = nn.Linear(120, 84)\n",
    "        self.fc3 = nn.Linear(84, 10)"
   ]
  },
  {
   "cell_type": "code",
   "execution_count": 5,
   "metadata": {},
   "outputs": [
    {
     "name": "stdout",
     "output_type": "stream",
     "text": [
      "torch.Size([1, 10])\n"
     ]
    }
   ],
   "source": [
    "# Resizing with view() to fit into a linear layer\n",
    "\n",
    "batch_size = 1\n",
    "\n",
    "# Simulate a 28 x 28 pixel, grayscale \"image\"\n",
    "input = torch.randn(1, 28, 28)\n",
    "\n",
    "# Use view() to get [batch_size, num_features].\n",
    "# -1 calculates the missing value given the other dim.\n",
    "input = input.view(batch_size, -1) # torch.Size([1, 784])\n",
    "\n",
    "# Initialize the linear layer,\n",
    "fc = torch.nn.Linear(784, 10)\n",
    "\n",
    "# Pass in the simulated image to the layer.\n",
    "output = fc(input)\n",
    "\n",
    "print(output.shape)"
   ]
  },
  {
   "cell_type": "code",
   "execution_count": 6,
   "metadata": {},
   "outputs": [
    {
     "data": {
      "text/plain": [
       "\"This is the same pattern for convolutional layers as well, only it's channels, and not features that get passed along.\""
      ]
     },
     "execution_count": 6,
     "metadata": {},
     "output_type": "execute_result"
    }
   ],
   "source": [
    "\"\"\"The in-between dimensions are the hidden layer dimensions, you just pass in the last of the previous as the first of the next.\"\"\"\n",
    "fc1 = torch.nn.Linear(784, 100) # 100 is last.\n",
    "fc2 = torch.nn.Linear(100, 50) # 100 is first, 50 is last.\n",
    "fc3 = torch.nn.Linear(50, 20) # 50 is first, 20 is last.\n",
    "fc4 = torch.nn.Linear(20, 10) # 20 is first. \n",
    "\n",
    "\"\"\"This is the same pattern for convolutional layers as well, only it's channels, and not features that get passed along.\"\"\""
   ]
  },
  {
   "cell_type": "code",
   "execution_count": null,
   "metadata": {},
   "outputs": [],
   "source": []
  }
 ],
 "metadata": {
  "kernelspec": {
   "display_name": "Python 3",
   "language": "python",
   "name": "python3"
  },
  "language_info": {
   "codemirror_mode": {
    "name": "ipython",
    "version": 3
   },
   "file_extension": ".py",
   "mimetype": "text/x-python",
   "name": "python",
   "nbconvert_exporter": "python",
   "pygments_lexer": "ipython3",
   "version": "3.8.5"
  }
 },
 "nbformat": 4,
 "nbformat_minor": 4
}
